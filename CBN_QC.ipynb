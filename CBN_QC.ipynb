{
  "nbformat": 4,
  "nbformat_minor": 5,
  "metadata": {
    "kernelspec": {
      "display_name": "Python 3",
      "language": "python",
      "name": "python3"
    },
    "language_info": {
      "codemirror_mode": {
        "name": "ipython",
        "version": 3
      },
      "file_extension": ".py",
      "mimetype": "text/x-python",
      "name": "python",
      "nbconvert_exporter": "python",
      "pygments_lexer": "ipython3",
      "version": "3.7.9"
    },
    "colab": {
      "name": "CBN_QC.ipynb",
      "provenance": [],
      "collapsed_sections": []
    }
  },
  "cells": [
    {
      "cell_type": "code",
      "metadata": {
        "colab": {
          "base_uri": "https://localhost:8080/"
        },
        "id": "WXCX-pwTzN08",
        "outputId": "bd164838-46a8-44e4-b62a-ac511f3c6056"
      },
      "source": [
        "from google.colab import drive\n",
        "drive.mount('/content/drive')"
      ],
      "id": "WXCX-pwTzN08",
      "execution_count": null,
      "outputs": [
        {
          "output_type": "stream",
          "name": "stdout",
          "text": [
            "Drive already mounted at /content/drive; to attempt to forcibly remount, call drive.mount(\"/content/drive\", force_remount=True).\n"
          ]
        }
      ]
    },
    {
      "cell_type": "code",
      "metadata": {
        "id": "molecular-resource",
        "colab": {
          "base_uri": "https://localhost:8080/"
        },
        "outputId": "3ee8a02a-466b-4053-d288-c07c434e4081"
      },
      "source": [
        "import sys \n",
        "sys.path.insert(0, '/content/drive/MyDrive/CBN_Automate')\n",
        "%cd /content/drive/MyDrive/CBN_Automate\n",
        "\n",
        "import pandas as pd\n",
        "import Resource  as res\n",
        "from oauth2client.service_account import ServiceAccountCredentials\n",
        "import gspread\n",
        "from googleapiclient import discovery\n",
        "import psycopg2\n",
        "import psycopg2.extras as extras\n",
        "\n",
        "\n",
        "\n",
        "scope = ['https://spreadsheets.google.com/feeds', 'https://www.googleapis.com/auth/drive']\n",
        "credentials = ServiceAccountCredentials.from_json_keyfile_name(\"cbn-file-Automate.json\",scope)\n",
        "service = discovery.build('sheets', 'v4', credentials=credentials)"
      ],
      "id": "molecular-resource",
      "execution_count": null,
      "outputs": [
        {
          "output_type": "stream",
          "name": "stdout",
          "text": [
            "/content/drive/MyDrive/CBN_Automate\n"
          ]
        }
      ]
    },
    {
      "cell_type": "markdown",
      "metadata": {
        "id": "perfect-herald"
      },
      "source": [
        "###  Input URL'S"
      ],
      "id": "perfect-herald"
    },
    {
      "cell_type": "code",
      "metadata": {
        "id": "usual-ideal"
      },
      "source": [
        "### Input file Url \n",
        "urls = [\"https://docs.google.com/spreadsheets/d/1goS1Ghcvkp0wkcnIlCqEbAEIpwxRjf3hZcCynf0LoaM/edit?urlBuilderDomain=smartsetter.io#gid=2090963965\"]"
      ],
      "id": "usual-ideal",
      "execution_count": null,
      "outputs": []
    },
    {
      "cell_type": "code",
      "metadata": {
        "id": "compressed-headline"
      },
      "source": [
        "#To get spreadsheet informations like spreadsheet file name and sheet name\n",
        "spreadsheet_id = []\n",
        "sheet_id = []\n",
        "file_name = []\n",
        "sheet_name = []\n",
        "for sid in urls:\n",
        "    spread_id = sid.split('/')\n",
        "    spreadsheet_id.append(spread_id[5])\n",
        "    sh_id = sid.split('=')\n",
        "    sheet_id.append(sh_id[-1])\n",
        "    sheet_metadata = service.spreadsheets().get(spreadsheetId=spread_id[5]).execute()\n",
        "    file_name.append(sheet_metadata.get('properties').get('title'))\n",
        "    properties = sheet_metadata.get('sheets')\n",
        "    \n",
        "    for  item in properties:\n",
        "        if item.get(\"properties\").get('sheetId') == int(sh_id[-1]):\n",
        "            sh_name = (item.get(\"properties\").get('title'))\n",
        "            sheet_name.append(sh_name)"
      ],
      "id": "compressed-headline",
      "execution_count": null,
      "outputs": []
    },
    {
      "cell_type": "code",
      "metadata": {
        "id": "effective-vulnerability",
        "colab": {
          "base_uri": "https://localhost:8080/"
        },
        "outputId": "02488de7-eddd-4798-f39e-8fc47e12094e"
      },
      "source": [
        "#For reading all the files and creating dynamic variable for each dataframe\n",
        "column_length = []\n",
        "for url in range(len(urls)):\n",
        "    \n",
        "    globals()[f\"df{url}\"] = res.read_dataframe(urls[url])\n",
        "    \n",
        "    print(globals()[f\"df{url}\"].shape)\n",
        "    column_length.append(globals()[f\"df{url}\"].shape[1])\n",
        "\n",
        "    #globals()[f\"df{url}\"][\"Assign\"]  = None  "
      ],
      "id": "effective-vulnerability",
      "execution_count": null,
      "outputs": [
        {
          "output_type": "stream",
          "name": "stdout",
          "text": [
            "(1594, 18)\n"
          ]
        }
      ]
    },
    {
      "cell_type": "code",
      "metadata": {
        "id": "personalized-stability",
        "colab": {
          "base_uri": "https://localhost:8080/"
        },
        "outputId": "4089d12a-2402-4685-d964-57852b05d09b"
      },
      "source": [
        "#for checking duplicates\n",
        "for url in range(len(urls)):\n",
        "    \n",
        "    \n",
        "    license = res.license_finder(globals()[f\"df{url}\"].columns)\n",
        "\n",
        "    globals()[f\"df{url}\"][\"Comments\"]  = None \n",
        "    \n",
        "    if len(license)>0:\n",
        "\n",
        "        globals()[f\"df{url}\"] = res.license_count(globals()[f\"df{url}\"],license)\n",
        "\n",
        "        globals()[f\"df{url}\"] = res.license_count(globals()[f\"df{url}\"],\"Found_Mobile\")\n",
        "\n",
        "        #globals()[f\"df{url}\"] = res.duplicate_check(globals()[f\"df{url}\"])\n",
        "\n",
        "        globals()[f\"df{url}\"] = res.comment(globals()[f\"df{url}\"])\n",
        "\n",
        "        globals()[f\"df{url}\"].drop(['license_id_count','Found_Mobile_count'],axis= 1 , inplace= True)\n",
        "\n",
        "        none_index = globals()[f\"df{url}\"][globals()[f\"df{url}\"][\"Found_Mobile\"].isna()].index\n",
        "\n",
        "        if len(none_index):\n",
        "          globals()[f\"df{url}\"].loc[none_index,\"Comments\"] = None\n",
        "\n",
        "        none_index = globals()[f\"df{url}\"][globals()[f\"df{url}\"][\"Found_Mobile\"] == 'None'].index\n",
        "\n",
        "        if len(none_index):\n",
        "          globals()[f\"df{url}\"].loc[none_index,\"Comments\"] = None       \n",
        "\n",
        "        none_index = globals()[f\"df{url}\"][globals()[f\"df{url}\"][\"Found_Mobile\"] == 'Not Found'].index\n",
        "\n",
        "        if len(none_index):\n",
        "          globals()[f\"df{url}\"].loc[none_index,\"Comments\"] = None    "
      ],
      "id": "personalized-stability",
      "execution_count": null,
      "outputs": [
        {
          "output_type": "stream",
          "name": "stdout",
          "text": [
            "Taking  license_id as license\n"
          ]
        }
      ]
    },
    {
      "cell_type": "code",
      "metadata": {
        "id": "chubby-trout",
        "colab": {
          "base_uri": "https://localhost:8080/"
        },
        "outputId": "7ccec71d-b319-4946-a7aa-b8c5134e0bd7"
      },
      "source": [
        "#To export to google sheets\n",
        "\n",
        "albha = [\"A\",\"B\",\"C\",\"D\",\"E\",\"F\",\"G\",\"H\",\"I\",\"J\",\"K\",\"L\",\"M\",\"N\",\"O\",\"P\",\"Q\",\"R\",\"S\",\"T\",\"U\",\"V\",\"W\",\"X\",\"Y\",\"Z\",\"AA\",\"AB\",\"AC\"]\n",
        "for url in range(len(urls)):\n",
        "    \n",
        "    Data = globals()[f\"df{url}\"][[\"Comments\"]]\n",
        "    \n",
        "    na_index = Data[Data[\"Comments\"].isna()].index\n",
        "    if len(na_index) > 0:\n",
        "        Data.loc[na_index,\"Comments\"] = None\n",
        "        \n",
        "\n",
        "    \n",
        "    \n",
        "    sheet_data_list = []\n",
        "    for index in range(len(Data)):\n",
        "        sheet_data_list.append([str(Data.loc[index,'Comments'])])\n",
        "    \n",
        "\n",
        "\n",
        "    data = [['Comments']]\n",
        "    request = service.spreadsheets().values().append(spreadsheetId=spreadsheet_id[url], \n",
        "                                                     range=sheet_name[url]+\"!\"+albha[column_length[url]]+str(1)+\":\"+albha[column_length[url]+1]+str(1), valueInputOption=\"USER_ENTERED\", \n",
        "                                                     insertDataOption=\"OVERWRITE\", body={\"values\":data})\n",
        "\n",
        "    response = request.execute()\n",
        "    \n",
        "        \n",
        "   \n",
        "\n",
        "\n",
        "\n",
        "    data = sheet_data_list\n",
        "    request = service.spreadsheets().values().append(spreadsheetId=spreadsheet_id[url], \n",
        "                                                     range=sheet_name[url]+\"!\"+albha[column_length[url]]+str(2)+\":\"+albha[column_length[url]+1]+str(2), valueInputOption=\"USER_ENTERED\", \n",
        "                                                     insertDataOption=\"OVERWRITE\", body={\"values\":data})\n",
        "\n",
        "    response = request.execute()"
      ],
      "id": "chubby-trout",
      "execution_count": null,
      "outputs": [
        {
          "output_type": "stream",
          "name": "stderr",
          "text": [
            "/usr/local/lib/python3.7/dist-packages/pandas/core/indexing.py:670: SettingWithCopyWarning: \n",
            "A value is trying to be set on a copy of a slice from a DataFrame\n",
            "\n",
            "See the caveats in the documentation: https://pandas.pydata.org/pandas-docs/stable/user_guide/indexing.html#returning-a-view-versus-a-copy\n",
            "  iloc._setitem_with_indexer(indexer, value)\n",
            "/usr/local/lib/python3.7/dist-packages/ipykernel_launcher.py:10: SettingWithCopyWarning: \n",
            "A value is trying to be set on a copy of a slice from a DataFrame\n",
            "\n",
            "See the caveats in the documentation: https://pandas.pydata.org/pandas-docs/stable/user_guide/indexing.html#returning-a-view-versus-a-copy\n",
            "  # Remove the CWD from sys.path while we load stuff.\n"
          ]
        }
      ]
    },
    {
      "cell_type": "code",
      "metadata": {
        "id": "5Opk7wWR0A_3"
      },
      "source": [
        ""
      ],
      "id": "5Opk7wWR0A_3",
      "execution_count": null,
      "outputs": []
    }
  ]
}